{
  "nbformat": 4,
  "nbformat_minor": 0,
  "metadata": {
    "colab": {
      "name": "309512014_HW1.ipynb",
      "provenance": [],
      "collapsed_sections": [],
      "toc_visible": true,
      "authorship_tag": "ABX9TyPaTxfLUF5ruW/9xkWl6UkG",
      "include_colab_link": true
    },
    "kernelspec": {
      "name": "python3",
      "display_name": "Python 3"
    }
  },
  "cells": [
    {
      "cell_type": "markdown",
      "metadata": {
        "id": "view-in-github",
        "colab_type": "text"
      },
      "source": [
        "<a href=\"https://colab.research.google.com/github/Louis5228/Mechine-Learning/blob/main/309512014_HW1.ipynb\" target=\"_parent\"><img src=\"https://colab.research.google.com/assets/colab-badge.svg\" alt=\"Open In Colab\"/></a>"
      ]
    },
    {
      "cell_type": "code",
      "metadata": {
        "id": "8_qp3w_8uoF7",
        "outputId": "e904561b-cf37-4ca6-da38-0b0881855ec5",
        "colab": {
          "base_uri": "https://localhost:8080/"
        }
      },
      "source": [
        "import os\n",
        "from google.colab import drive\n",
        "from matplotlib import pyplot as plt\n",
        "import pandas as pd\n",
        "import numpy as np\n",
        "import math\n",
        "from numpy.linalg import pinv\n",
        "drive.mount('/content/gdrive')\n",
        "\n",
        "dataset_x = pd.read_csv(\"/content/gdrive/My Drive/Machine_Learning/dataset/data_X.csv\")\n",
        "dataset_t = pd.read_csv(\"/content/gdrive/My Drive/Machine_Learning/dataset/data_T.csv\")\n",
        "dataset_x = np.array(dataset_x)\n",
        "dataset_t = np.array(dataset_t)\n",
        "dataset_x = dataset_x[: , 1:]\n",
        "dataset_t = dataset_t[: , 1:]\n",
        "\n",
        "ntarget = dataset_t.shape[0]\n",
        "ratio = 9/10\n",
        "ntrain = int(ntarget*ratio) #num of training data\n",
        "ntest = ntarget - ntrain #num of testing data\n",
        "D = 7 #Dimension"
      ],
      "execution_count": 1117,
      "outputs": [
        {
          "output_type": "stream",
          "text": [
            "Drive already mounted at /content/gdrive; to attempt to forcibly remount, call drive.mount(\"/content/gdrive\", force_remount=True).\n"
          ],
          "name": "stdout"
        }
      ]
    },
    {
      "cell_type": "markdown",
      "metadata": {
        "id": "5dT7gRa68ygg"
      },
      "source": [
        "## 2-1 Feature select"
      ]
    },
    {
      "cell_type": "code",
      "metadata": {
        "id": "LC0pT8eYp2Cy"
      },
      "source": [
        "# 1.(a)\n",
        "# Create phi_matrix for M = 1\n",
        "temp_matrix1_train = np.ones([1, ntrain])\n",
        "temp_matrix1_test = np.ones([1, ntest])\n",
        "temp_matrix2_train = dataset_x[:ntrain,:].T\n",
        "temp_matrix2_test = dataset_x[ntrain:,:].T\n",
        "phi_matrix_train = np.vstack((temp_matrix1_train, temp_matrix2_train))\n",
        "phi_matrix_test = np.vstack((temp_matrix1_test, temp_matrix2_test))"
      ],
      "execution_count": 1118,
      "outputs": []
    },
    {
      "cell_type": "code",
      "metadata": {
        "id": "GeYRSRyfsoyW"
      },
      "source": [
        "# Weight for M = 1\n",
        "w_M1 = np.dot(np.dot(pinv(np.dot(phi_matrix_train, phi_matrix_train.T)), phi_matrix_train), dataset_t[:ntrain, :])\n",
        "# RMS for training data\n",
        "RMS_M1_train = math.sqrt(np.sum((np.dot(w_M1.T, phi_matrix_train) - dataset_t[:ntrain, :].T)**2) / ntrain)\n",
        "# RMS for testing data\n",
        "RMS_M1_test = math.sqrt(np.sum((np.dot(w_M1.T, phi_matrix_test) - dataset_t[ntrain:, :].T)**2) / ntest)"
      ],
      "execution_count": 1119,
      "outputs": []
    },
    {
      "cell_type": "code",
      "metadata": {
        "id": "J2UqbX0E3g2L"
      },
      "source": [
        "# Create phi_matrix for M = 2\n",
        "temp_matrix1_train = np.ones([1, ntrain])\n",
        "temp_matrix1_test = np.ones([1, ntest])\n",
        "temp_matrix2_train = dataset_x[:ntrain,:].T\n",
        "temp_matrix2_test = dataset_x[ntrain:,:].T\n",
        "temp_matrix3_train = np.zeros((49,ntrain))\n",
        "for i in range(0,ntrain):\n",
        "  m = 0\n",
        "  for j in range(0,D):\n",
        "    for k in range(0,D):\n",
        "      temp_matrix3_train[m,i] = dataset_x[i,j] * dataset_x[i,k]\n",
        "      m = m + 1\n",
        "temp_matrix3_test = np.zeros((49,ntest))\n",
        "for i in range(0,ntest):\n",
        "  m = 0\n",
        "  for j in range(0,D):\n",
        "    for k in range(0,D):\n",
        "      temp_matrix3_test[m,i] = dataset_x[(ntrain+i),j] * dataset_x[(ntrain+i),k]\n",
        "      m = m + 1\n",
        "phi_matrix_train = np.vstack((temp_matrix1_train, temp_matrix2_train, temp_matrix3_train))\n",
        "phi_matrix_test = np.vstack((temp_matrix1_test, temp_matrix2_test, temp_matrix3_test))"
      ],
      "execution_count": 1120,
      "outputs": []
    },
    {
      "cell_type": "code",
      "metadata": {
        "id": "zfJlFZO1dNYP"
      },
      "source": [
        "# Weight for M = 2\n",
        "w_M2 = np.dot(np.dot(pinv(np.dot(phi_matrix_train, phi_matrix_train.T)), phi_matrix_train), dataset_t[:ntrain, :])\n",
        "# RMS for training data\n",
        "RMS_M2_train = math.sqrt(np.sum((np.dot(w_M2.T, phi_matrix_train) - dataset_t[:ntrain, :].T)**2) / ntrain)\n",
        "# RMS for testing data\n",
        "RMS_M2_test = math.sqrt(np.sum((np.dot(w_M2.T, phi_matrix_test) - dataset_t[ntrain:, :].T)**2) / ntest)"
      ],
      "execution_count": 1121,
      "outputs": []
    },
    {
      "cell_type": "code",
      "metadata": {
        "id": "cnqTPu_v9IQv",
        "outputId": "a8c8a027-0c7b-4107-d91c-eee1c09a0749",
        "colab": {
          "base_uri": "https://localhost:8080/"
        }
      },
      "source": [
        "print(\"Polynomial\\n\")\n",
        "print(\"RMS_M1_train: \", RMS_M1_train)\n",
        "print(\"RMS_M1_test:  \", RMS_M1_test, \"\\n\")\n",
        "print(\"RMS_M2_train: \", RMS_M2_train)\n",
        "print(\"RMS_M2_test:  \", RMS_M2_test)"
      ],
      "execution_count": 1122,
      "outputs": [
        {
          "output_type": "stream",
          "text": [
            "Polynomial\n",
            "\n",
            "RMS_M1_train:  0.06095143237851235\n",
            "RMS_M1_test:   0.04559177564490297 \n",
            "\n",
            "RMS_M2_train:  0.05832880424300963\n",
            "RMS_M2_test:   0.05160960927185425\n"
          ],
          "name": "stdout"
        }
      ]
    },
    {
      "cell_type": "code",
      "metadata": {
        "id": "Of-2W_0RWvWf",
        "outputId": "a2abef55-aa5d-42a8-83d9-7a738abf80b8",
        "colab": {
          "base_uri": "https://localhost:8080/",
          "height": 307
        }
      },
      "source": [
        "plt.xticks(fontsize = 12)\n",
        "plt.yticks(fontsize = 12)\n",
        "plt.title('Polynomial', fontsize = 20)\n",
        "plt.xlabel('M', fontsize = 15)\n",
        "plt.ylabel('RMS', fontsize = 15)\n",
        "plt.plot([1,2],[RMS_M1_train,RMS_M2_train],color='red',marker = \"D\",label='Training')\n",
        "plt.plot([1,2],[RMS_M1_test,RMS_M2_test],color='blue',marker = \"D\",label='Validation')\n",
        "plt.legend(loc=0, fontsize = 12)\n",
        "plt.grid(True)\n",
        "plt.show()"
      ],
      "execution_count": 1123,
      "outputs": [
        {
          "output_type": "display_data",
          "data": {
            "image/png": "[encoded data removed]",
            "text/plain": [
              "<Figure size 432x288 with 1 Axes>"
            ]
          },
          "metadata": {
            "tags": [],
            "needs_background": "light"
          }
        }
      ]
    },
    {
      "cell_type": "code",
      "metadata": {
        "id": "n0KFE-h1Guaj",
        "outputId": "2b2c5e66-69d3-4b62-b6dd-0280ecf13292",
        "colab": {
          "base_uri": "https://localhost:8080/"
        }
      },
      "source": [
        "# 1.(b)\n",
        "data_no_GRE = np.delete(dataset_x, 0, 1)\n",
        "data_no_TOFEL = np.delete(dataset_x, 1, 1)\n",
        "data_no_rating = np.delete(dataset_x, 2, 1)\n",
        "data_no_SOP = np.delete(dataset_x, 3, 1)\n",
        "data_no_LOR = np.delete(dataset_x, 4, 1)\n",
        "data_no_CGPA = np.delete(dataset_x, 5, 1)\n",
        "data_no_Research = np.delete(dataset_x, 6, 1)\n",
        "\n",
        "# Create lists\n",
        "data_list = [data_no_GRE, data_no_TOFEL, data_no_rating, data_no_SOP, data_no_LOR, data_no_CGPA, data_no_Research]\n",
        "name_list = ['GRE', 'TOFEL', 'rating', 'SOP', 'LOR', 'CGPA', 'Research']\n",
        "RMS_M1_train_list = list()\n",
        "RMS_M1_test_list = list()\n",
        "\n",
        "# Create phi_matri for M = 1\n",
        "temp_matrix1_train = np.ones([1, ntrain])\n",
        "temp_matrix1_test = np.ones([1, ntest])\n",
        "for i in range(0,D):\n",
        "  temp_matrix2_train = data_list[i][:ntrain,:].T\n",
        "  temp_matrix2_test = data_list[i][ntrain:,:].T\n",
        "  phi_matrix_train = np.vstack((temp_matrix1_train, temp_matrix2_train))\n",
        "  phi_matrix_test = np.vstack((temp_matrix1_test, temp_matrix2_test))\n",
        "  # Weight for M = 1\n",
        "  w_M1 = np.dot(np.dot(pinv(np.dot(phi_matrix_train, phi_matrix_train.T)), phi_matrix_train), dataset_t[:ntrain, :])\n",
        "  RMS_M1_train = math.sqrt(np.sum((np.dot(w_M1.T, phi_matrix_train) - dataset_t[:ntrain, :].T)**2) / ntrain)\n",
        "  RMS_M1_test = math.sqrt(np.sum((np.dot(w_M1.T, phi_matrix_test) - dataset_t[ntrain:, :].T)**2) / ntest)\n",
        "  # Add values to lists\n",
        "  RMS_M1_train_list.append(RMS_M1_train)\n",
        "  RMS_M1_test_list.append(RMS_M1_test)\n",
        "  print(\"Without\", name_list[i], \":\")\n",
        "  print(\"RMS_M1_train: \", RMS_M1_train_list[i])\n",
        "  print(\"RMS_M1_test:  \", RMS_M1_test_list[i], \"\\n\")"
      ],
      "execution_count": 1124,
      "outputs": [
        {
          "output_type": "stream",
          "text": [
            "Without GRE :\n",
            "RMS_M1_train:  0.06168537344601798\n",
            "RMS_M1_test:   0.04726488891192383 \n",
            "\n",
            "Without TOFEL :\n",
            "RMS_M1_train:  0.06153847066751702\n",
            "RMS_M1_test:   0.04651775373742274 \n",
            "\n",
            "Without rating :\n",
            "RMS_M1_train:  0.06104026570493099\n",
            "RMS_M1_test:   0.046419125768507326 \n",
            "\n",
            "Without SOP :\n",
            "RMS_M1_train:  0.06095422491430103\n",
            "RMS_M1_test:   0.045392532107397146 \n",
            "\n",
            "Without LOR :\n",
            "RMS_M1_train:  0.06233753471870303\n",
            "RMS_M1_test:   0.04084395015939705 \n",
            "\n",
            "Without CGPA :\n",
            "RMS_M1_train:  0.06955775307351288\n",
            "RMS_M1_test:   0.052307642794294944 \n",
            "\n",
            "Without Research :\n",
            "RMS_M1_train:  0.06164217249139676\n",
            "RMS_M1_test:   0.04784096820965269 \n",
            "\n"
          ],
          "name": "stdout"
        }
      ]
    },
    {
      "cell_type": "code",
      "metadata": {
        "id": "HlnM9slKmxd6",
        "outputId": "f15bb400-cb19-4b96-ba09-71b0a07880ec",
        "colab": {
          "base_uri": "https://localhost:8080/",
          "height": 363
        }
      },
      "source": [
        "plt.figure(figsize=(8,5))\n",
        "plt.xticks(fontsize = 12)\n",
        "plt.yticks(fontsize = 12)\n",
        "plt.bar(name_list, RMS_M1_train_list, label = 'Training', align = \"edge\", width = 0.35)\n",
        "plt.bar(name_list, RMS_M1_test_list, label = 'Validation', align = \"edge\", width = -0.35)\n",
        "plt.title(\"Analysis of weights\", fontsize = 20)\n",
        "plt.xlabel(\"Without whitch features\", fontsize = 15)\n",
        "plt.ylabel(\"RMS\", fontsize = 15)\n",
        "plt.ylim(0,0.08)\n",
        "plt.legend(loc=0, fontsize = 12)\n",
        "plt.show()"
      ],
      "execution_count": 1125,
      "outputs": [
        {
          "output_type": "display_data",
          "data": {
            "image/png": "[encoded data removed]",
            "text/plain": [
              "<Figure size 576x360 with 1 Axes>"
            ]
          },
          "metadata": {
            "tags": [],
            "needs_background": "light"
          }
        }
      ]
    },
    {
      "cell_type": "markdown",
      "metadata": {
        "id": "WcSQS0U38dYI"
      },
      "source": [
        "## 2-2 Maximum likelihood approach"
      ]
    },
    {
      "cell_type": "code",
      "metadata": {
        "id": "dQBvigGJ8X1C"
      },
      "source": [
        "# 2.(b)\n",
        "# Gaussian basis function\n",
        "\n",
        "# Calculate mean & variance\n",
        "mu = np.zeros((D,1))\n",
        "variance = np.zeros((D,1))\n",
        "for i in range(0,D):\n",
        "  mu[i] = np.sum(dataset_x[:ntrain,i]) / ntrain\n",
        "for i in range(0,D):\n",
        "  variance[i] = np.sum((dataset_x[:ntrain,i] - mu[i])**2) / ntrain\n",
        "\n",
        "# Expand arrays\n",
        "mu_train = np.tile(mu,(1,ntrain))\n",
        "mu_test = np.tile(mu,(1,ntest))\n",
        "variance_train = np.tile(variance,(1,ntrain))\n",
        "variance_test = np.tile(variance,(1,ntest))"
      ],
      "execution_count": 1126,
      "outputs": []
    },
    {
      "cell_type": "code",
      "metadata": {
        "id": "0z36AU6mYtme"
      },
      "source": [
        "# Create phi_matrix for M = 1\n",
        "temp_matrix1_train = np.ones([1, ntrain])\n",
        "temp_matrix1_test = np.ones([1, ntest])\n",
        "temp_matrix2_train = np.exp(-((dataset_x[:ntrain,:].T - mu_train)**2) / (2*variance_train))\n",
        "temp_matrix2_test = np.exp(-((dataset_x[ntrain:,:].T - mu_test)**2) / (2*variance_test))\n",
        "phi_matrix_train = np.vstack((temp_matrix1_train, temp_matrix2_train))\n",
        "phi_matrix_test = np.vstack((temp_matrix1_test, temp_matrix2_test))"
      ],
      "execution_count": 1127,
      "outputs": []
    },
    {
      "cell_type": "code",
      "metadata": {
        "id": "RVXyeEh_ucCu"
      },
      "source": [
        "# Weight for M = 1\n",
        "w_M1 = np.dot(np.dot(pinv(np.dot(phi_matrix_train, phi_matrix_train.T)), phi_matrix_train), dataset_t[:ntrain, :])\n",
        "# RMS for training data for M = 1\n",
        "RMS_M1_train = math.sqrt(np.sum((np.dot(w_M1.T, phi_matrix_train) - dataset_t[:ntrain, :].T)**2) / ntrain)\n",
        "# RMS for testing data for M = 1 \n",
        "RMS_M1_test = math.sqrt(np.sum((np.dot(w_M1.T, phi_matrix_test) - dataset_t[ntrain:, :].T)**2) / ntest)"
      ],
      "execution_count": 1128,
      "outputs": []
    },
    {
      "cell_type": "code",
      "metadata": {
        "id": "hF3e7xUD1Pvu"
      },
      "source": [
        "# Create phi_matrix for M = 2\n",
        "temp_matrix1_train = np.ones([1, ntrain])\n",
        "temp_matrix1_test = np.ones([1, ntest])\n",
        "temp_matrix2_train = np.exp(-((dataset_x[:ntrain,:].T - mu_train)**2) / (2*variance_train))\n",
        "temp_matrix2_test = np.exp(-((dataset_x[ntrain:,:].T - mu_test)**2) / (2*variance_test))\n",
        "temp_matrix3_train = np.zeros((49,ntrain))\n",
        "for i in range(0,ntrain):\n",
        "  m = 0\n",
        "  for j in range(0,D):\n",
        "    for k in range(0,D):\n",
        "      temp_matrix3_train[m,i] = np.exp(-(((dataset_x[i,j] - mu[j])**2 / (2*variance[j])) + ((dataset_x[i,k] - mu[k])**2 / (2*variance[k]))))\n",
        "      m = m + 1\n",
        "temp_matrix3_test = np.zeros((49,ntest))\n",
        "for i in range(0,ntest):\n",
        "  m = 0\n",
        "  for j in range(0,D):\n",
        "    for k in range(0,D):\n",
        "      temp_matrix3_test[m,i] = np.exp(-(((dataset_x[(ntrain+i),j] - mu[j])**2 / (2*variance[j])) + ((dataset_x[(ntrain+i),k] - mu[k])**2 / (2*variance[k]))))\n",
        "      m = m + 1\n",
        "phi_matrix_train = np.vstack((temp_matrix1_train, temp_matrix2_train, temp_matrix3_train))\n",
        "phi_matrix_test = np.vstack((temp_matrix1_test, temp_matrix2_test, temp_matrix3_test))"
      ],
      "execution_count": 1129,
      "outputs": []
    },
    {
      "cell_type": "code",
      "metadata": {
        "id": "r-5weSEtYqQZ"
      },
      "source": [
        "# Weight for M = 2\n",
        "w_M2 = np.dot(np.dot(pinv(np.dot(phi_matrix_train, phi_matrix_train.T)), phi_matrix_train), dataset_t[:ntrain, :])\n",
        "# RMS for training data\n",
        "RMS_M2_train = math.sqrt(np.sum((np.dot(w_M2.T, phi_matrix_train) - dataset_t[:ntrain, :].T)**2) / ntrain)\n",
        "# RMS for testing data\n",
        "RMS_M2_test = math.sqrt(np.sum((np.dot(w_M2.T, phi_matrix_test) - dataset_t[ntrain:, :].T)**2) / ntest)"
      ],
      "execution_count": 1130,
      "outputs": []
    },
    {
      "cell_type": "code",
      "metadata": {
        "id": "ed930cf19S1w",
        "outputId": "71e81250-9c3e-440b-bd2d-d7f44332678f",
        "colab": {
          "base_uri": "https://localhost:8080/"
        }
      },
      "source": [
        "print(\"Gaussian\\n\")\n",
        "print(\"RMS_M1_train: \", RMS_M1_train)\n",
        "print(\"RMS_M1_test:  \", RMS_M1_test, \"\\n\")\n",
        "print(\"RMS_M2_train: \", RMS_M2_train)\n",
        "print(\"RMS_M2_test:  \", RMS_M2_test)"
      ],
      "execution_count": 1131,
      "outputs": [
        {
          "output_type": "stream",
          "text": [
            "Gaussian\n",
            "\n",
            "RMS_M1_train:  0.11796033218956312\n",
            "RMS_M1_test:   0.10570638491253403 \n",
            "\n",
            "RMS_M2_train:  0.09344113230064592\n",
            "RMS_M2_test:   0.09561352963742394\n"
          ],
          "name": "stdout"
        }
      ]
    },
    {
      "cell_type": "code",
      "metadata": {
        "id": "mfInLT78tCsZ",
        "outputId": "f55787d9-614e-4666-da2e-97071ba08512",
        "colab": {
          "base_uri": "https://localhost:8080/",
          "height": 307
        }
      },
      "source": [
        "plt.xticks(fontsize = 12)\n",
        "plt.yticks(fontsize = 12)\n",
        "plt.title('Gaussian', fontsize = 20)\n",
        "plt.xlabel('M', fontsize = 15)\n",
        "plt.ylabel('RMS', fontsize = 15)\n",
        "plt.plot([1,2],[RMS_M1_train,RMS_M2_train],color='red',marker = \"D\",label='Training')\n",
        "plt.plot([1,2],[RMS_M1_test,RMS_M2_test],color='blue',marker = \"D\",label='Validation')\n",
        "plt.legend(loc=0, fontsize = 12)\n",
        "plt.grid(True)\n",
        "plt.show()"
      ],
      "execution_count": 1132,
      "outputs": [
        {
          "output_type": "display_data",
          "data": {
            "image/png": "[encoded data removed]",
            "text/plain": [
              "<Figure size 432x288 with 1 Axes>"
            ]
          },
          "metadata": {
            "tags": [],
            "needs_background": "light"
          }
        }
      ]
    },
    {
      "cell_type": "code",
      "metadata": {
        "id": "NePVGzdLZTeB"
      },
      "source": [
        "# Sigmoidal basis function\n",
        "# Create phi_matrix for M = 1\n",
        "temp_matrix1_train = np.ones([1, ntrain])\n",
        "temp_matrix1_test = np.ones([1, ntest])\n",
        "temp_matrix2_train = 1 / (1 + np.exp(-(dataset_x[:ntrain,:].T - mu_train)))\n",
        "temp_matrix2_test = 1 / (1 + np.exp(-(dataset_x[ntrain:,:].T - mu_test)))\n",
        "phi_matrix_train = np.vstack((temp_matrix1_train, temp_matrix2_train))\n",
        "phi_matrix_test = np.vstack((temp_matrix1_test, temp_matrix2_test))"
      ],
      "execution_count": 1133,
      "outputs": []
    },
    {
      "cell_type": "code",
      "metadata": {
        "id": "5_G3M05jeBZa"
      },
      "source": [
        "# Weight for M = 1\n",
        "w_M1 = np.dot(np.dot(pinv(np.dot(phi_matrix_train, phi_matrix_train.T)), phi_matrix_train), dataset_t[:ntrain, :])\n",
        "# RMS for training data for M = 1\n",
        "RMS_M1_train = math.sqrt(np.sum((np.dot(w_M1.T, phi_matrix_train) - dataset_t[:ntrain, :].T)**2) / ntrain)\n",
        "# RMS for testing data for M = 1 \n",
        "RMS_M1_test = math.sqrt(np.sum((np.dot(w_M1.T, phi_matrix_test) - dataset_t[ntrain:, :].T)**2) / ntest)"
      ],
      "execution_count": 1134,
      "outputs": []
    },
    {
      "cell_type": "code",
      "metadata": {
        "id": "HLzo9LGTeeo2"
      },
      "source": [
        "# Create phi_matrix for M = 2\n",
        "temp_matrix1_train = np.ones([1, ntrain])\n",
        "temp_matrix1_test = np.ones([1, ntest])\n",
        "temp_matrix2_train = 1 / (1 + np.exp(-(dataset_x[:ntrain,:].T - mu_train)))\n",
        "temp_matrix2_test = 1 / (1 + np.exp(-(dataset_x[ntrain:,:].T - mu_test)))\n",
        "temp_matrix3_train = np.zeros((49,ntrain))\n",
        "for i in range(0,ntrain):\n",
        "  m = 0\n",
        "  for j in range(0,D):\n",
        "    for k in range(0,D):\n",
        "      temp_matrix3_train[m,i] = (1 / (1 + np.exp(-(dataset_x[i,j] - mu[j])))) * (1 / (1 + np.exp(-(dataset_x[i,k] - mu[k]))))\n",
        "      m = m + 1\n",
        "temp_matrix3_test = np.zeros((49,ntest))\n",
        "for i in range(0,ntest):\n",
        "  m = 0\n",
        "  for j in range(0,D):\n",
        "    for k in range(0,D):\n",
        "      temp_matrix3_test[m,i] = (1 / (1 + np.exp(-(dataset_x[(ntrain+i),j] - mu[j])))) * (1 / (1 + np.exp(-(dataset_x[(ntrain+i),k] - mu[k]))))\n",
        "      m = m + 1\n",
        "phi_matrix_train = np.vstack((temp_matrix1_train, temp_matrix2_train, temp_matrix3_train))\n",
        "phi_matrix_test = np.vstack((temp_matrix1_test, temp_matrix2_test, temp_matrix3_test))"
      ],
      "execution_count": 1135,
      "outputs": []
    },
    {
      "cell_type": "code",
      "metadata": {
        "id": "X2LcCfgufpQF"
      },
      "source": [
        "# Weight for M = 2\n",
        "w_M2 = np.dot(np.dot(pinv(np.dot(phi_matrix_train, phi_matrix_train.T)), phi_matrix_train), dataset_t[:ntrain, :])\n",
        "# RMS for training data\n",
        "RMS_M2_train = math.sqrt(np.sum((np.dot(w_M2.T, phi_matrix_train) - dataset_t[:ntrain, :].T)**2) / ntrain)\n",
        "# RMS for testing data\n",
        "RMS_M2_test = math.sqrt(np.sum((np.dot(w_M2.T, phi_matrix_test) - dataset_t[ntrain:, :].T)**2) / ntest)\n"
      ],
      "execution_count": 1136,
      "outputs": []
    },
    {
      "cell_type": "code",
      "metadata": {
        "id": "O6PCfCOt9V3P",
        "outputId": "d5ca3b7e-f3c4-4d33-fd2c-256958f5d5f7",
        "colab": {
          "base_uri": "https://localhost:8080/"
        }
      },
      "source": [
        "print(\"Sigmoidal\\n\")\n",
        "print(\"RMS_M1_train: \", RMS_M1_train)\n",
        "print(\"RMS_M1_test:  \", RMS_M1_test,\"\\n\")\n",
        "print(\"RMS_M2_train: \", RMS_M2_train)\n",
        "print(\"RMS_M2_test:  \", RMS_M2_test)"
      ],
      "execution_count": 1137,
      "outputs": [
        {
          "output_type": "stream",
          "text": [
            "Sigmoidal\n",
            "\n",
            "RMS_M1_train:  0.06278908522875996\n",
            "RMS_M1_test:   0.05182633693994323 \n",
            "\n",
            "RMS_M2_train:  0.060233039149453146\n",
            "RMS_M2_test:   0.053313789580317336\n"
          ],
          "name": "stdout"
        }
      ]
    },
    {
      "cell_type": "code",
      "metadata": {
        "id": "ItHMxIwbuV01",
        "outputId": "ef73198e-3248-44eb-fb67-22da2b8d37fe",
        "colab": {
          "base_uri": "https://localhost:8080/",
          "height": 307
        }
      },
      "source": [
        "plt.xticks(fontsize = 12)\n",
        "plt.yticks(fontsize = 12)\n",
        "plt.title('Sigmoidal', fontsize = 20)\n",
        "plt.xlabel('M', fontsize = 15)\n",
        "plt.ylabel('RMS', fontsize = 15)\n",
        "plt.plot([1,2],[RMS_M1_train,RMS_M2_train],color='red',marker = \"D\",label='Training')\n",
        "plt.plot([1,2],[RMS_M1_test,RMS_M2_test],color='blue',marker = \"D\",label='Validation')\n",
        "plt.legend(loc=0, fontsize = 12)\n",
        "plt.grid(True)\n",
        "plt.show()"
      ],
      "execution_count": 1138,
      "outputs": [
        {
          "output_type": "display_data",
          "data": {
            "image/png": "[encoded data removed]",
            "text/plain": [
              "<Figure size 432x288 with 1 Axes>"
            ]
          },
          "metadata": {
            "tags": [],
            "needs_background": "light"
          }
        }
      ]
    },
    {
      "cell_type": "code",
      "metadata": {
        "id": "MskwYUrof0Jv"
      },
      "source": [
        "# 2.(c)\n",
        "# N-fold cross-validation with ML\n",
        "N = 10\n",
        "ratio = 1/N\n",
        "ntest_NFold = int(ntarget * ratio)\n",
        "ntrain_NFold = ntarget - ntest_NFold\n",
        "RMS_M1_train = np.zeros((1,N))\n",
        "RMS_M1_test = np.zeros((1,N))\n",
        "RMS_M2_train = np.zeros((1,N))\n",
        "RMS_M2_test = np.zeros((1,N))\n",
        "for r in range(N):\n",
        "  dataset_x_test = dataset_x[range((ntest_NFold*r),(ntest_NFold*(r+1))),:]\n",
        "  dataset_t_test = dataset_t[range((ntest_NFold*r),(ntest_NFold*(r+1))),:]\n",
        "  dataset_x_train = np.delete(dataset_x, [range((ntest_NFold*r),(ntest_NFold*(r+1)))], axis=0)\n",
        "  dataset_t_train = np.delete(dataset_t, [range((ntest_NFold*r),(ntest_NFold*(r+1)))], axis=0)\n",
        "  # Create phi_matrix for M = 1 & M = 2\n",
        "  temp_matrix1_train = np.ones([1, ntrain_NFold])\n",
        "  temp_matrix1_test = np.ones([1, ntest_NFold])\n",
        "  temp_matrix2_train = dataset_x_train.T\n",
        "  temp_matrix2_test = dataset_x_test.T\n",
        "  temp_matrix3_train = np.zeros((49,ntrain_NFold))\n",
        "  for i in range(0,ntrain_NFold):\n",
        "    m = 0\n",
        "    for j in range(0,D):\n",
        "      for k in range(0,D):\n",
        "        temp_matrix3_train[m,i] = dataset_x_train[i,j] * dataset_x_train[i,k]\n",
        "        m = m + 1\n",
        "  temp_matrix3_test = np.zeros((49,ntest_NFold))\n",
        "  for i in range(0,ntest_NFold):\n",
        "    m = 0\n",
        "    for j in range(0,D):\n",
        "      for k in range(0,D):\n",
        "        temp_matrix3_test[m,i] = dataset_x_test[i,j] * dataset_x_test[i,k]\n",
        "        m = m + 1\n",
        "  phi_matrix_M1_train = np.vstack((temp_matrix1_train, temp_matrix2_train))\n",
        "  phi_matrix_M1_test = np.vstack((temp_matrix1_test, temp_matrix2_test))\n",
        "  phi_matrix_M2_train = np.vstack((temp_matrix1_train, temp_matrix2_train, temp_matrix3_train))\n",
        "  phi_matrix_M2_test = np.vstack((temp_matrix1_test, temp_matrix2_test, temp_matrix3_test))\n",
        "  # Weights for M = 1 & M = 2\n",
        "  w_M1 = np.dot(np.dot(pinv(np.dot(phi_matrix_M1_train, phi_matrix_M1_train.T)), phi_matrix_M1_train), dataset_t_train)\n",
        "  w_M2 = np.dot(np.dot(pinv(np.dot(phi_matrix_M2_train, phi_matrix_M2_train.T)), phi_matrix_M2_train), dataset_t_train)\n",
        "  # RMSs\n",
        "  RMS_M1_train[0,r] = math.sqrt(np.sum((np.dot(w_M1.T, phi_matrix_M1_train) - dataset_t_train.T)**2) / ntrain_NFold)\n",
        "  RMS_M1_test[0,r] = math.sqrt(np.sum((np.dot(w_M1.T, phi_matrix_M1_test) - dataset_t_test.T)**2) / ntest_NFold)\n",
        "  RMS_M2_train[0,r] = math.sqrt(np.sum((np.dot(w_M2.T, phi_matrix_M2_train) - dataset_t_train.T)**2) / ntrain_NFold)\n",
        "  RMS_M2_test[0,r] = math.sqrt(np.sum((np.dot(w_M2.T, phi_matrix_M2_test) - dataset_t_test.T)**2) / ntest_NFold)"
      ],
      "execution_count": 1139,
      "outputs": []
    },
    {
      "cell_type": "code",
      "metadata": {
        "id": "iSMebzUoPUJ6",
        "outputId": "e211a1ab-15d4-4636-999f-86c9fe625947",
        "colab": {
          "base_uri": "https://localhost:8080/"
        }
      },
      "source": [
        "a = [RMS_M1_train, RMS_M1_test, RMS_M2_train, RMS_M2_test]\n",
        "name = ['RMS_M1_train', 'RMS_M1_test', 'RMS_M2_train', 'RMS_M2_test']\n",
        "mean_list = list()\n",
        "print(\"N-fold cross-validation with ML\\n\")\n",
        "for i in range(4):\n",
        "  mu = np.mean(a[i])\n",
        "  mean_list.append(mu)\n",
        "  variance = np.var(a[i])\n",
        "  print(name[i], \":\")\n",
        "  print(\"mean:     \", mu)\n",
        "  print(\"variance: \", variance, \"\\n\")"
      ],
      "execution_count": 1140,
      "outputs": [
        {
          "output_type": "stream",
          "text": [
            "N-fold cross-validation with ML\n",
            "\n",
            "RMS_M1_train :\n",
            "mean:      0.0593113767871043\n",
            "variance:  8.109442468940044e-06 \n",
            "\n",
            "RMS_M1_test :\n",
            "mean:      0.058225498477515604\n",
            "variance:  0.00043942534086194394 \n",
            "\n",
            "RMS_M2_train :\n",
            "mean:      0.05662403816652206\n",
            "variance:  6.603056004833078e-06 \n",
            "\n",
            "RMS_M2_test :\n",
            "mean:      0.062252808785435244\n",
            "variance:  0.0004380016477467137 \n",
            "\n"
          ],
          "name": "stdout"
        }
      ]
    },
    {
      "cell_type": "code",
      "metadata": {
        "id": "yxkxITATP_lI",
        "outputId": "cf237347-6837-46d6-c4b8-59564b03ad4c",
        "colab": {
          "base_uri": "https://localhost:8080/",
          "height": 307
        }
      },
      "source": [
        "plt.xticks(fontsize = 12)\n",
        "plt.yticks(fontsize = 12)\n",
        "plt.title('N-fold cross-validation with ML', fontsize = 20)\n",
        "plt.xlabel('M', fontsize = 15)\n",
        "plt.ylabel('RMS(avg.)', fontsize = 15)\n",
        "plt.plot([1,2],[mean_list[0],mean_list[2]],color='red',marker = \"D\",label='Training')\n",
        "plt.plot([1,2],[mean_list[1],mean_list[3]],color='blue',marker = \"D\",label='Validation')\n",
        "plt.legend(loc=0, fontsize = 12)\n",
        "plt.grid(True)\n",
        "plt.show()"
      ],
      "execution_count": 1141,
      "outputs": [
        {
          "output_type": "display_data",
          "data": {
            "image/png": "[encoded data removed]",
            "text/plain": [
              "<Figure size 432x288 with 1 Axes>"
            ]
          },
          "metadata": {
            "tags": [],
            "needs_background": "light"
          }
        }
      ]
    },
    {
      "cell_type": "markdown",
      "metadata": {
        "id": "5kuXtRQc1zQX"
      },
      "source": [
        "# 3 Maximum a posterior approach"
      ]
    },
    {
      "cell_type": "code",
      "metadata": {
        "id": "0UHPtaEqrI7B"
      },
      "source": [
        "# (b)\n",
        "Lambda = 0.1\n",
        "# Create phi_matrix for M = 1\n",
        "temp_matrix1_train = np.ones([1, ntrain])\n",
        "temp_matrix1_test = np.ones([1, ntest])\n",
        "temp_matrix2_train = dataset_x[:ntrain,:].T\n",
        "temp_matrix2_test = dataset_x[ntrain:,:].T\n",
        "phi_matrix_train = np.vstack((temp_matrix1_train, temp_matrix2_train))\n",
        "phi_matrix_test = np.vstack((temp_matrix1_test, temp_matrix2_test))"
      ],
      "execution_count": 1142,
      "outputs": []
    },
    {
      "cell_type": "code",
      "metadata": {
        "id": "SQsBz39JLNUI"
      },
      "source": [
        "# Weight for M = 1 with lambda\n",
        "w_M1 = np.dot(np.dot(pinv(np.dot(phi_matrix_train, phi_matrix_train.T) + Lambda*np.eye(D+1)), phi_matrix_train), dataset_t[:ntrain, :])\n",
        "# RMS for training data\n",
        "RMS_M1_train = math.sqrt((np.sum((np.dot(w_M1.T, phi_matrix_train) - dataset_t[:ntrain, :].T)**2) + Lambda*np.dot(w_M1.T,w_M1)) / ntrain)\n",
        "# RMS for testing data\n",
        "RMS_M1_test = math.sqrt((np.sum((np.dot(w_M1.T, phi_matrix_test) - dataset_t[ntrain:, :].T)**2) + Lambda*np.dot(w_M1.T,w_M1)) / ntest)"
      ],
      "execution_count": 1143,
      "outputs": []
    },
    {
      "cell_type": "code",
      "metadata": {
        "id": "S4ecwZTPPBx5"
      },
      "source": [
        "# Create phi_matrix for M = 2\n",
        "temp_matrix1_train = np.ones([1, ntrain])\n",
        "temp_matrix1_test = np.ones([1, ntest])\n",
        "temp_matrix2_train = dataset_x[:ntrain,:].T\n",
        "temp_matrix2_test = dataset_x[ntrain:,:].T\n",
        "temp_matrix3_train = np.zeros((49,ntrain))\n",
        "for i in range(0,ntrain):\n",
        "  m = 0\n",
        "  for j in range(0,D):\n",
        "    for k in range(0,D):\n",
        "      temp_matrix3_train[m,i] = dataset_x[i,j] * dataset_x[i,k]\n",
        "      m = m + 1\n",
        "temp_matrix3_test = np.zeros((49,ntest))\n",
        "for i in range(0,ntest):\n",
        "  m = 0\n",
        "  for j in range(0,D):\n",
        "    for k in range(0,D):\n",
        "      temp_matrix3_test[m,i] = dataset_x[(ntrain+i),j] * dataset_x[(ntrain+i),k]\n",
        "      m = m + 1\n",
        "phi_matrix_train = np.vstack((temp_matrix1_train, temp_matrix2_train, temp_matrix3_train))\n",
        "phi_matrix_test = np.vstack((temp_matrix1_test, temp_matrix2_test, temp_matrix3_test))"
      ],
      "execution_count": 1144,
      "outputs": []
    },
    {
      "cell_type": "code",
      "metadata": {
        "id": "KAN1S2AcQyc4",
        "outputId": "7d04d47c-3bc1-40ad-e9aa-e5fd5eac4c19",
        "colab": {
          "base_uri": "https://localhost:8080/"
        }
      },
      "source": [
        "# Weight for M = 2 with lambda\n",
        "w_M2 = np.dot(np.dot(pinv(np.dot(phi_matrix_train, phi_matrix_train.T) + Lambda*np.eye(1+D+D**2)), phi_matrix_train), dataset_t[:ntrain, :])\n",
        "# RMS for training data\n",
        "RMS_M2_train = math.sqrt((np.sum((np.dot(w_M2.T, phi_matrix_train) - dataset_t[:ntrain, :].T)**2) + Lambda*np.dot(w_M2.T,w_M2)) / ntrain)\n",
        "# RMS for testing data\n",
        "RMS_M2_test = math.sqrt((np.sum((np.dot(w_M2.T, phi_matrix_test) - dataset_t[ntrain:, :].T)**2) + Lambda*np.dot(w_M2.T,w_M2)) / ntest)\n",
        "print(\"Polynomial\")\n",
        "print(\"lambda = \", Lambda, \"\\n\")\n",
        "print(\"RMS_M1_train_with_lambda: \", RMS_M1_train)\n",
        "print(\"RMS_M1_test_with_lambda:  \", RMS_M1_test,\"\\n\")\n",
        "print(\"RMS_M2_train_with_lambda: \", RMS_M2_train)\n",
        "print(\"RMS_M2_test_with_lambda:  \", RMS_M2_test)"
      ],
      "execution_count": 1145,
      "outputs": [
        {
          "output_type": "stream",
          "text": [
            "Polynomial\n",
            "lambda =  0.1 \n",
            "\n",
            "RMS_M1_train_with_lambda:  0.06316570857304941\n",
            "RMS_M1_test_with_lambda:   0.06306933971315273 \n",
            "\n",
            "RMS_M2_train_with_lambda:  0.05852795272158788\n",
            "RMS_M2_test_with_lambda:   0.049883038573420996\n"
          ],
          "name": "stdout"
        }
      ]
    },
    {
      "cell_type": "code",
      "metadata": {
        "id": "GQZ3EZ-S1Pvw",
        "outputId": "c20b9115-48a5-4184-fd04-0223ee2f796f",
        "colab": {
          "base_uri": "https://localhost:8080/",
          "height": 307
        }
      },
      "source": [
        "plt.xticks(fontsize = 12)\n",
        "plt.yticks(fontsize = 12)\n",
        "plt.title('Polynomial with lambda: '+str(Lambda), fontsize = 20)\n",
        "plt.xlabel('M', fontsize = 15)\n",
        "plt.ylabel('RMS', fontsize = 15)\n",
        "plt.plot([1,2],[RMS_M1_train,RMS_M2_train],color='red',marker = \"D\",label='Training')\n",
        "plt.plot([1,2],[RMS_M1_test,RMS_M2_test],color='blue',marker = \"D\",label='Validation')\n",
        "plt.legend(loc=0, fontsize = 12)\n",
        "plt.grid(True)\n",
        "plt.show()"
      ],
      "execution_count": 1146,
      "outputs": [
        {
          "output_type": "display_data",
          "data": {
            "image/png": "[encoded data removed]",
            "text/plain": [
              "<Figure size 432x288 with 1 Axes>"
            ]
          },
          "metadata": {
            "tags": [],
            "needs_background": "light"
          }
        }
      ]
    },
    {
      "cell_type": "code",
      "metadata": {
        "id": "Z_uUEAajFz-X"
      },
      "source": [
        "# N-fold cross-validation with MAP\n",
        "Lambda = 0.1\n",
        "N = 10\n",
        "ratio = 1/N\n",
        "ntest_NFold = int(ntarget * ratio)\n",
        "ntrain_NFold = ntarget - ntest_NFold\n",
        "RMS_M1_train = np.zeros((1,N))\n",
        "RMS_M1_test = np.zeros((1,N))\n",
        "RMS_M2_train = np.zeros((1,N))\n",
        "RMS_M2_test = np.zeros((1,N))\n",
        "for r in range(N):\n",
        "  dataset_x_test = dataset_x[range((ntest_NFold*r),(ntest_NFold*(r+1))),:]\n",
        "  dataset_t_test = dataset_t[range((ntest_NFold*r),(ntest_NFold*(r+1))),:]\n",
        "  dataset_x_train = np.delete(dataset_x, [range((ntest_NFold*r),(ntest_NFold*(r+1)))], axis=0)\n",
        "  dataset_t_train = np.delete(dataset_t, [range((ntest_NFold*r),(ntest_NFold*(r+1)))], axis=0)\n",
        "  # Create phi_matrix for M = 1 & M = 2\n",
        "  temp_matrix1_train = np.ones([1, ntrain_NFold])\n",
        "  temp_matrix1_test = np.ones([1, ntest_NFold])\n",
        "  temp_matrix2_train = dataset_x_train.T\n",
        "  temp_matrix2_test = dataset_x_test.T\n",
        "  temp_matrix3_train = np.zeros((49,ntrain_NFold))\n",
        "  for i in range(0,ntrain_NFold):\n",
        "    m = 0\n",
        "    for j in range(0,D):\n",
        "      for k in range(0,D):\n",
        "        temp_matrix3_train[m,i] = dataset_x_train[i,j] * dataset_x_train[i,k]\n",
        "        m = m + 1\n",
        "  temp_matrix3_test = np.zeros((49,ntest_NFold))\n",
        "  for i in range(0,ntest_NFold):\n",
        "    m = 0\n",
        "    for j in range(0,D):\n",
        "      for k in range(0,D):\n",
        "        temp_matrix3_test[m,i] = dataset_x_test[i,j] * dataset_x_test[i,k]\n",
        "        m = m + 1\n",
        "  phi_matrix_M1_train = np.vstack((temp_matrix1_train, temp_matrix2_train))\n",
        "  phi_matrix_M1_test = np.vstack((temp_matrix1_test, temp_matrix2_test))\n",
        "  phi_matrix_M2_train = np.vstack((temp_matrix1_train, temp_matrix2_train, temp_matrix3_train))\n",
        "  phi_matrix_M2_test = np.vstack((temp_matrix1_test, temp_matrix2_test, temp_matrix3_test))\n",
        "  # Weights for M = 1 & M = 2\n",
        "  w_M1 = np.dot(np.dot(pinv(np.dot(phi_matrix_M1_train, phi_matrix_M1_train.T) + Lambda*np.eye(D+1)), phi_matrix_M1_train), dataset_t_train)\n",
        "  w_M2 = np.dot(np.dot(pinv(np.dot(phi_matrix_M2_train, phi_matrix_M2_train.T) + Lambda*np.eye(1+D+D**2)), phi_matrix_M2_train), dataset_t_train)\n",
        "  # RMSs\n",
        "  RMS_M1_train[0,r] = math.sqrt((np.sum((np.dot(w_M1.T, phi_matrix_M1_train) - dataset_t_train.T)**2) + Lambda*np.dot(w_M1.T,w_M1)) / ntrain_NFold)\n",
        "  RMS_M1_test[0,r] = math.sqrt((np.sum((np.dot(w_M1.T, phi_matrix_M1_test) - dataset_t_test.T)**2) + Lambda*np.dot(w_M1.T,w_M1)) / ntest_NFold)\n",
        "  RMS_M2_train[0,r] = math.sqrt((np.sum((np.dot(w_M2.T, phi_matrix_M2_train) - dataset_t_train.T)**2) + Lambda*np.dot(w_M2.T,w_M2)) / ntrain_NFold)\n",
        "  RMS_M2_test[0,r] = math.sqrt((np.sum((np.dot(w_M2.T, phi_matrix_M2_test) - dataset_t_test.T)**2) + Lambda*np.dot(w_M2.T,w_M2)) / ntest_NFold)"
      ],
      "execution_count": 1147,
      "outputs": []
    },
    {
      "cell_type": "code",
      "metadata": {
        "id": "wJc_7ICMM2uo",
        "outputId": "c7c4960f-b2ed-4db6-90fd-39aaee575dd0",
        "colab": {
          "base_uri": "https://localhost:8080/"
        }
      },
      "source": [
        "a = [RMS_M1_train, RMS_M1_test, RMS_M2_train, RMS_M2_test]\n",
        "name = ['RMS_M1_train', 'RMS_M1_test', 'RMS_M2_train', 'RMS_M2_test']\n",
        "mean_list = list()\n",
        "print(\"N-fold cross-validation with MAP\\n\")\n",
        "for i in range(4):\n",
        "  mu = np.mean(a[i])\n",
        "  mean_list.append(mu)\n",
        "  variance = np.var(a[i])\n",
        "  print(name[i], \":\")\n",
        "  print(\"mean:     \", mu)\n",
        "  print(\"variance: \", variance, \"\\n\")"
      ],
      "execution_count": 1148,
      "outputs": [
        {
          "output_type": "stream",
          "text": [
            "N-fold cross-validation with MAP\n",
            "\n",
            "RMS_M1_train :\n",
            "mean:      0.061576845913199896\n",
            "variance:  8.102784571076458e-06 \n",
            "\n",
            "RMS_M1_test :\n",
            "mean:      0.07381409987728829\n",
            "variance:  0.00031440976018294863 \n",
            "\n",
            "RMS_M2_train :\n",
            "mean:      0.05683214259208362\n",
            "variance:  6.556640630596912e-06 \n",
            "\n",
            "RMS_M2_test :\n",
            "mean:      0.06177471083894624\n",
            "variance:  0.0004062184103747651 \n",
            "\n"
          ],
          "name": "stdout"
        }
      ]
    },
    {
      "cell_type": "code",
      "metadata": {
        "id": "hgmj5R1CN-hj",
        "outputId": "3c5d577d-bdba-4d34-a779-db95182d1034",
        "colab": {
          "base_uri": "https://localhost:8080/",
          "height": 307
        }
      },
      "source": [
        "plt.xticks(fontsize = 12)\n",
        "plt.yticks(fontsize = 12)\n",
        "plt.title('N-fold cross-validation with MAP and lambda: '+str(Lambda), fontsize = 20)\n",
        "plt.xlabel('M', fontsize = 15)\n",
        "plt.ylabel('RMS(avg.)', fontsize = 15)\n",
        "plt.plot([1,2],[mean_list[0],mean_list[2]],color='red',marker = \"D\",label='Training')\n",
        "plt.plot([1,2],[mean_list[1],mean_list[3]],color='blue',marker = \"D\",label='Validation')\n",
        "plt.legend(loc=0, fontsize = 12)\n",
        "plt.grid(True)\n",
        "plt.show()"
      ],
      "execution_count": 1149,
      "outputs": [
        {
          "output_type": "display_data",
          "data": {
            "image/png": "[encoded data removed]",
            "text/plain": [
              "<Figure size 432x288 with 1 Axes>"
            ]
          },
          "metadata": {
            "tags": [],
            "needs_background": "light"
          }
        }
      ]
    }
  ]
}