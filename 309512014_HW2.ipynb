{
  "nbformat": 4,
  "nbformat_minor": 0,
  "metadata": {
    "colab": {
      "name": "309512014_HW2.ipynb",
      "provenance": [],
      "collapsed_sections": [],
      "authorship_tag": "ABX9TyP0M2dcmla2+GytTaTyZJNc",
      "include_colab_link": true
    },
    "kernelspec": {
      "name": "python3",
      "display_name": "Python 3"
    }
  },
  "cells": [
    {
      "cell_type": "markdown",
      "metadata": {
        "id": "view-in-github",
        "colab_type": "text"
      },
      "source": [
        "<a href=\"https://colab.research.google.com/github/Louis5228/Mechine-Learning/blob/main/309512014_HW2.ipynb\" target=\"_parent\"><img src=\"https://colab.research.google.com/assets/colab-badge.svg\" alt=\"Open In Colab\"/></a>"
      ]
    },
    {
      "cell_type": "code",
      "metadata": {
        "colab": {
          "base_uri": "https://localhost:8080/"
        },
        "id": "6kvLXb7Ka7-7",
        "outputId": "35da77dd-47ae-470e-83c1-b6d9ed275365"
      },
      "source": [
        "import os\n",
        "from google.colab import drive\n",
        "from matplotlib import pyplot as plt\n",
        "import pandas as pd\n",
        "import numpy as np\n",
        "import math\n",
        "from numpy.linalg import inv, pinv\n",
        "drive.mount('/content/gdrive')\n",
        "\n",
        "data = pd.read_csv(\"/content/gdrive/My Drive/Machine_Learning/HW2/dataset/data.csv\")\n",
        "data = np.array(data)\n",
        "x = data[:, :1]\n",
        "t = data[:, 1:]"
      ],
      "execution_count": 1,
      "outputs": [
        {
          "output_type": "stream",
          "text": [
            "Mounted at /content/gdrive\n"
          ],
          "name": "stdout"
        }
      ]
    },
    {
      "cell_type": "code",
      "metadata": {
        "id": "M8oJ4LuLbbcr"
      },
      "source": [
        "M = 3\n",
        "s = 0.6\n",
        "N_list = [5, 10, 30, 80]\n",
        "N_index = [0, 5, 10, 30, 80]\n",
        "beta = 1\n",
        "m0 = np.zeros((M,1))\n",
        "s0_inv = math.pow(10,-6)*np.eye(M)\n",
        "\n",
        "def sigmoid_f(a):\n",
        "  return 1 / (1 + np.exp(-a))\n",
        "\n",
        "def cal_phi(x):\n",
        "  phi = np.empty([len(x),0])\n",
        "  for j in range(M):\n",
        "    mu = 2*j / M\n",
        "    phi = np.hstack((phi, sigmoid_f((x - mu) / s)))\n",
        "  return phi\n",
        "\n",
        "def posterior_dist(m0, s0_inv, beta, phi, t):\n",
        "  sN_inv = s0_inv + beta*np.dot(phi.T, phi)\n",
        "  sN = inv(sN_inv)\n",
        "  mN = np.dot(sN, (np.dot(s0_inv, m0) + beta*np.dot(phi.T, t)))\n",
        "  return mN, sN\n",
        "\n",
        "mN_l = []\n",
        "sN_l = []\n",
        "for i in range(1, len(N_index)):\n",
        "  x_temp = x[N_index[i-1]:N_index[i]]\n",
        "  t_temp = t[N_index[i-1]:N_index[i]]\n",
        "  mN, sN = posterior_dist(m0, s0_inv, beta, cal_phi(x_temp), t_temp)\n",
        "  mN_l.append(mN)\n",
        "  sN_l.append(sN)\n",
        "  # print(\"Data size:\", N_index[i], \"\\nmean:\\n\", mN, \"\\nconvariance:\\n\", sN, \"\\n\")\n",
        "\n",
        "  m0 = mN\n",
        "  s0_inv = inv(sN)"
      ],
      "execution_count": 8,
      "outputs": []
    },
    {
      "cell_type": "code",
      "metadata": {
        "id": "J3HWiYIAnqvb"
      },
      "source": [
        ""
      ],
      "execution_count": null,
      "outputs": []
    }
  ]
}