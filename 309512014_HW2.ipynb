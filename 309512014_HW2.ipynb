{
  "nbformat": 4,
  "nbformat_minor": 0,
  "metadata": {
    "colab": {
      "name": "309512014_HW2.ipynb",
      "provenance": [],
      "collapsed_sections": [],
      "authorship_tag": "ABX9TyOiowH1d44hoz+N/+RWJ69J",
      "include_colab_link": true
    },
    "kernelspec": {
      "name": "python3",
      "display_name": "Python 3"
    }
  },
  "cells": [
    {
      "cell_type": "markdown",
      "metadata": {
        "id": "view-in-github",
        "colab_type": "text"
      },
      "source": [
        "<a href=\"https://colab.research.google.com/github/Louis5228/Mechine-Learning/blob/main/309512014_HW2.ipynb\" target=\"_parent\"><img src=\"https://colab.research.google.com/assets/colab-badge.svg\" alt=\"Open In Colab\"/></a>"
      ]
    },
    {
      "cell_type": "code",
      "metadata": {
        "colab": {
          "base_uri": "https://localhost:8080/"
        },
        "id": "6kvLXb7Ka7-7",
        "outputId": "b6cf5247-749e-4a6b-b560-eceda7e2e814"
      },
      "source": [
        "import os\n",
        "from google.colab import drive\n",
        "from matplotlib import pyplot as plt\n",
        "import pandas as pd\n",
        "import numpy as np\n",
        "import math\n",
        "from numpy.linalg import inv, pinv\n",
        "drive.mount('/content/gdrive')\n",
        "\n",
        "data = pd.read_csv(\"/content/gdrive/My Drive/Machine_Learning/HW2/dataset/data.csv\")\n",
        "data = np.array(data)\n",
        "x = data[:, :1]\n",
        "t = data[:, 1:]"
      ],
      "execution_count": 83,
      "outputs": [
        {
          "output_type": "stream",
          "text": [
            "Drive already mounted at /content/gdrive; to attempt to forcibly remount, call drive.mount(\"/content/gdrive\", force_remount=True).\n"
          ],
          "name": "stdout"
        }
      ]
    },
    {
      "cell_type": "code",
      "metadata": {
        "colab": {
          "base_uri": "https://localhost:8080/"
        },
        "id": "M8oJ4LuLbbcr",
        "outputId": "47ea8347-e194-486d-810c-fa9b69198983"
      },
      "source": [
        "M = 3\n",
        "s = 0.6\n",
        "N_list = [5, 10, 30, 80]\n",
        "beta = 1\n",
        "m0 = np.zeros((M,1))\n",
        "s0_inv = math.pow(10,-6)*np.eye(M)\n",
        "\n",
        "def sigmoid_f(a):\n",
        "  return 1 / (1 + np.exp(-a))\n",
        "\n",
        "def cal_phi(x):\n",
        "  phi = np.empty([len(x),0])\n",
        "  for j in range(M):\n",
        "    mu = 2*j / M\n",
        "    phi = np.hstack((phi, sigmoid_f((x - mu) / s)))\n",
        "  return phi\n",
        "\n",
        "def posterior_dist(m0, s0_inv, beta, phi, t):\n",
        "  sN_inv = s0_inv + beta*np.dot(phi.T, phi)\n",
        "  sN = inv(sN_inv)\n",
        "  mN = np.dot(sN, (np.dot(s0_inv, m0) + beta*np.dot(phi.T, t)))\n",
        "  return mN, sN\n",
        "\n",
        "for N in N_list:\n",
        "  x_temp = x[:N]\n",
        "  t_temp = t[:N]\n",
        "  mN, sN = posterior_dist(m0, s0_inv, beta, cal_phi(x_temp), t_temp)\n",
        "  print(\"Data size:\", N, \"\\nmean:\\n\", mN, \"\\nconvariance:\\n\", sN, \"\\n\")\n"
      ],
      "execution_count": 84,
      "outputs": [
        {
          "output_type": "stream",
          "text": [
            "Data size: 5 \n",
            "mean:\n",
            " [[ 15.3918259 ]\n",
            " [-27.24893207]\n",
            " [ 13.76463907]] \n",
            "convariance:\n",
            " [[ 269.04934203 -577.62671303  361.07317844]\n",
            " [-577.62671303 1261.47181152 -803.66739994]\n",
            " [ 361.07317844 -803.66739994  523.15065575]] \n",
            "\n",
            "Data size: 10 \n",
            "mean:\n",
            " [[ 15.3974152 ]\n",
            " [-27.40629378]\n",
            " [ 14.00195039]] \n",
            "convariance:\n",
            " [[ 168.04688541 -341.15540081  202.52975073]\n",
            " [-341.15540081  706.27405822 -429.99999167]\n",
            " [ 202.52975073 -429.99999167  270.34416277]] \n",
            "\n",
            "Data size: 30 \n",
            "mean:\n",
            " [[ 19.22763557]\n",
            " [-35.78002777]\n",
            " [ 19.39941303]] \n",
            "convariance:\n",
            " [[ 24.12006368 -54.9357445   37.11498943]\n",
            " [-54.9357445  127.7793514  -88.33383235]\n",
            " [ 37.11498943 -88.33383235  62.70588466]] \n",
            "\n",
            "Data size: 80 \n",
            "mean:\n",
            " [[ 18.85466897]\n",
            " [-34.50677874]\n",
            " [ 18.21950653]] \n",
            "convariance:\n",
            " [[  6.59105561 -14.94010939  10.02307411]\n",
            " [-14.94010939  34.88289614 -24.16334859]\n",
            " [ 10.02307411 -24.16334859  17.34855927]] \n",
            "\n"
          ],
          "name": "stdout"
        }
      ]
    },
    {
      "cell_type": "code",
      "metadata": {
        "id": "P8JjgUZua5fn"
      },
      "source": [
        ""
      ],
      "execution_count": 84,
      "outputs": []
    }
  ]
}